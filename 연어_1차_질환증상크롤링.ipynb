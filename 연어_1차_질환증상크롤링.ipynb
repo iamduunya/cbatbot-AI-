{
 "cells": [
  {
   "cell_type": "markdown",
   "id": "d26d148b",
   "metadata": {},
   "source": [
    "# 1. 배/전신 제외"
   ]
  },
  {
   "cell_type": "code",
   "execution_count": null,
   "id": "5b8a3d0a",
   "metadata": {},
   "outputs": [],
   "source": [
    "!pip install selenium\n",
    "!apt-get update\n",
    "!apt install chromium-chromedriver"
   ]
  },
  {
   "cell_type": "code",
   "execution_count": null,
   "id": "14f01a5f",
   "metadata": {},
   "outputs": [],
   "source": [
    "import requests\n",
    "from bs4 import BeautifulSoup\n",
    "import time\n",
    "import random\n",
    "from selenium import webdriver\n",
    "from selenium.webdriver.common.by import By\n",
    "from selenium.webdriver.support.ui import WebDriverWait\n",
    "from selenium.webdriver.support import expected_conditions as EC\n",
    "from selenium.common.exceptions import TimeoutException\n",
    "\n",
    "\n",
    "import pandas as pd\n",
    "import numpy as np\n",
    "\n",
    "from urllib.request import urlopen\n",
    "from bs4 import BeautifulSoup as bs\n",
    "from urllib.parse import quote_plus\n",
    "from selenium.webdriver.common.keys import Keys"
   ]
  },
  {
   "cell_type": "code",
   "execution_count": null,
   "id": "6da3d6bb",
   "metadata": {},
   "outputs": [],
   "source": [
    "from selenium import webdriver\n",
    "\n",
    "chrome_options = webdriver.ChromeOptions()             # 웹 드라이버 옵션 지정\n",
    "chrome_options.add_argument('--headless')              # 웹 브라우저 띄우지 않음\n",
    "chrome_options.add_argument('--no-sandbox')            # 별도 웹페이지 작동 해제\n",
    "chrome_options.add_argument('--disable-dev-shm-usage')"
   ]
  },
  {
   "cell_type": "code",
   "execution_count": null,
   "id": "3a55dae8",
   "metadata": {},
   "outputs": [],
   "source": [
    "wd = webdriver.Chrome(options=chrome_options)\n",
    "time.sleep(random.uniform(1,3))\n",
    "wd.get(url)"
   ]
  },
  {
   "cell_type": "code",
   "execution_count": null,
   "id": "68a2551f",
   "metadata": {},
   "outputs": [],
   "source": [
    "wait_time = 10  # 대기 시간 설정 (초 단위)"
   ]
  },
  {
   "cell_type": "code",
   "execution_count": null,
   "id": "8f9224d8",
   "metadata": {},
   "outputs": [],
   "source": [
    "part_id_names = {\n",
    "    \"B000001\": \"골반\",\n",
    "    \"B000002\": \"귀\",\n",
    "    \"B000003\": \"기타\",\n",
    "    \"B000004\": \"눈\",\n",
    "    \"B000005\": \"다리\",\n",
    "    \"B000006\": \"등/허리\",\n",
    "    \"B000007\": \"머리\",\n",
    "    \"B000008\": \"목\",\n",
    "    \"B000009\": \"발\",\n",
    "#     \"B000010\": \"배\",\n",
    "    \"B000011\": \"생식기\",\n",
    "    \"B000012\": \"손\",\n",
    "    \"B000013\": \"엉덩이\",\n",
    "    \"B000014\": \"유방\",\n",
    "    \"B000015\": \"입\",\n",
    "#     \"B000016\": \"전신\",\n",
    "    \"B000017\": \"코\",\n",
    "    \"B000018\": \"팔\",\n",
    "    \"B000019\": \"피부\",\n",
    "    \"B000020\": \"가슴\",\n",
    "    \"B000021\": \"얼굴\",\n",
    "}\n",
    "\n",
    "# 결과를 저장할 리스트 초기화\n",
    "results = []\n",
    "\n",
    "start_part_id = \"B000001\"\n",
    "end_part_id = \"B000022\"\n",
    "current_part_id = start_part_id\n",
    "\n",
    "# 파트 ID가 종료 ID에 도달할 때까지 반복\n",
    "while current_part_id != end_part_id:\n",
    "    url = \"https://www.amc.seoul.kr/asan/healthinfo/disease/diseaseList.do?partId={}\".format(current_part_id)\n",
    "    wd.get(url)\n",
    "\n",
    "    # 페이지 로딩 대기\n",
    "    page_bar = WebDriverWait(wd, 10).until(EC.presence_of_element_located((By.CSS_SELECTOR, '#content > div.healthinfoWrap > div.pagingWrapSec > span')))\n",
    "    pages = page_bar.find_elements(By.CSS_SELECTOR, 'a')\n",
    "\n",
    "    for page_num in range(1, len(pages) + 1):\n",
    "        xpath = '//*[@id=\"content\"]/div[2]/div[2]/span/a[{}]'.format(page_num)\n",
    "        wd.find_element(By.XPATH, xpath).click()\n",
    "\n",
    "        # 질환 데이터 추출\n",
    "        name_selector = \"#listForm > div > div > ul > li > div.contBox > strong\"\n",
    "        names = wd.find_elements(By.CSS_SELECTOR, name_selector)\n",
    "\n",
    "        for i in range(1, len(names) + 1):\n",
    "            xpath = '//*[@id=\"listForm\"]/div/div/ul/li[{}]/div[2]/strong/a'.format(i)\n",
    "            button = wd.find_element(By.XPATH, xpath)\n",
    "            button.click()\n",
    "\n",
    "            # 각 질환의 정보 추출\n",
    "            name_selector = \"#content > div.healthinfoWrap.clearfix > div.regionReviewLeft > div.otherRegionBox > ul > li > div.contBox > strong\"\n",
    "            symptom_selector = '#content > div.healthinfoWrap.clearfix > div.regionReviewLeft > div.contDescription > dl > dd:nth-child(6)'\n",
    "            related_diseases_selector = '#content > div.healthinfoWrap.clearfix > div.regionReviewLeft > div.otherRegionBox > ul > li > div.contBox > dl > dd:nth-child(4)'\n",
    "            department_selector = '#content > div.healthinfoWrap.clearfix > div.regionReviewLeft > div.otherRegionBox > ul > li > div.contBox > dl > dd:nth-child(6)'\n",
    "            define_selector = '#content > div.healthinfoWrap.clearfix > div.regionReviewLeft > div.contDescription > dl > dd:nth-child(2) '\n",
    "            cause_selector = '#content > div.healthinfoWrap.clearfix > div.regionReviewLeft > div.contDescription > dl > dd:nth-child(4) '\n",
    "\n",
    "            # 요소들 찾기\n",
    "            names = wd.find_elements(By.CSS_SELECTOR, name_selector)\n",
    "            symptoms = wd.find_elements(By.CSS_SELECTOR, symptom_selector)\n",
    "            related_diseases = wd.find_elements(By.CSS_SELECTOR, related_diseases_selector)\n",
    "            departments = wd.find_elements(By.CSS_SELECTOR, department_selector)\n",
    "            defines = wd.find_elements(By.CSS_SELECTOR, define_selector)\n",
    "            causes = wd.find_elements(By.CSS_SELECTOR, cause_selector)\n",
    "\n",
    "            # 결과를 리스트에 저장\n",
    "            for name, symptom, related_disease, department, define, cause in zip(names, symptoms, related_diseases, departments, defines, causes):\n",
    "                results.append({\n",
    "                    \"부위\": part_id_names[current_part_id],\n",
    "                    \"질환명\": name.text,\n",
    "                    \"정의\": define.text if define else None,\n",
    "                    \"원인\": cause.text if cause else None,\n",
    "                    \"증상\": symptom.text if symptom else None,\n",
    "                    \"관련 질환\": related_disease.text if related_disease else None,\n",
    "                    \"진료과\": department.text if department else None\n",
    "                })\n",
    "\n",
    "            # 이전 페이지로 이동\n",
    "            wd.back()\n",
    "\n",
    "    # 다음 파트 ID로 이동\n",
    "    current_part_id = \"B\" + str(int(current_part_id[1:]) + 1).zfill(6)\n",
    "\n",
    "# 데이터프레임으로 변환\n",
    "df = pd.DataFrame(results)\n",
    "\n",
    "# 웹 드라이버 종료\n",
    "wd.quit()"
   ]
  },
  {
   "cell_type": "code",
   "execution_count": null,
   "id": "ab07acfd",
   "metadata": {},
   "outputs": [],
   "source": [
    "df = pd.DataFrame(results)"
   ]
  },
  {
   "cell_type": "code",
   "execution_count": null,
   "id": "96d154c7",
   "metadata": {},
   "outputs": [],
   "source": [
    "df.head()"
   ]
  },
  {
   "cell_type": "code",
   "execution_count": null,
   "id": "d1ed5f95",
   "metadata": {},
   "outputs": [],
   "source": [
    "df.to_csv('./질환증상크롤링_배전신제외.csv', index=False)"
   ]
  },
  {
   "cell_type": "markdown",
   "id": "d7089cf9",
   "metadata": {},
   "source": [
    "# 2. 배/ 전신"
   ]
  },
  {
   "cell_type": "code",
   "execution_count": null,
   "id": "d7adf128",
   "metadata": {},
   "outputs": [],
   "source": [
    "from selenium import webdriver\n",
    "from selenium.webdriver.common.keys import Keys\n",
    "import time\n",
    "import selenium\n",
    "from selenium import webdriver\n",
    "import pandas as pd\n",
    "import numpy as np\n",
    "from bs4 import BeautifulSoup\n",
    "from selenium.webdriver.common.by import By # 셀레니움 4.0부터 포함된 함수(필수)\n",
    "from selenium.webdriver.chrome.service import Service\n",
    "\n",
    "from selenium.webdriver.common.by import By\n",
    "from selenium.webdriver.support.ui import WebDriverWait\n",
    "from selenium.webdriver.support import expected_conditions as EC\n",
    "from selenium.common.exceptions import NoSuchElementException"
   ]
  },
  {
   "cell_type": "code",
   "execution_count": null,
   "id": "0c7d4366",
   "metadata": {},
   "outputs": [],
   "source": [
    "def create_driver():\n",
    "    service = Service()\n",
    "    options = webdriver.ChromeOptions()\n",
    "    driver = webdriver.Chrome(service=service, options=options)\n",
    "    return driver"
   ]
  },
  {
   "cell_type": "code",
   "execution_count": null,
   "id": "c991082c",
   "metadata": {},
   "outputs": [],
   "source": [
    "driver = create_driver()\n",
    "### url 수정 ###\n",
    "# 배 1페이지 (~10)\n",
    "# https://www.amc.seoul.kr/asan/healthinfo/disease/diseaseList.do?pageIndex=1&partId=B000010&diseaseKindId=&searchKeyword=%EB%B0%B0\n",
    "# 배 11페이지\n",
    "# https://www.amc.seoul.kr/asan/healthinfo/disease/diseaseList.do?pageIndex=11&partId=B000010&diseaseKindId=&searchKeyword=%EB%B0%B0#content\n",
    "# 전신 1페이지 (~10)\n",
    "# https://www.amc.seoul.kr/asan/healthinfo/disease/diseaseList.do?pageIndex=1&partId=B000016&diseaseKindId=&searchKeyword=%EC%A0%84%EC%8B%A0\n",
    "# 전신 11페이지 (~20)\n",
    "# https://www.amc.seoul.kr/asan/healthinfo/disease/diseaseList.do?pageIndex=11&partId=B000016&diseaseKindId=&searchKeyword=%EC%A0%84%EC%8B%A0\n",
    "\n",
    "url = '해당 url'\n",
    "driver.get(url)"
   ]
  },
  {
   "cell_type": "code",
   "execution_count": null,
   "id": "fea8801d",
   "metadata": {},
   "outputs": [],
   "source": [
    "html = driver.page_source\n",
    "soup = BeautifulSoup(html, 'html.parser')"
   ]
  },
  {
   "cell_type": "code",
   "execution_count": null,
   "id": "bc0207ed",
   "metadata": {},
   "outputs": [],
   "source": [
    "result = []\n",
    "for j in range(1, 11): ## (1, page+1) 수정\n",
    "    ul_element = driver.find_element(By.XPATH, '//*[@id=\"listForm\"]/div/div/ul')\n",
    "    li_elements = ul_element.find_elements(By.TAG_NAME, 'li')\n",
    "\n",
    "    for i in range(1, len(li_elements)+1):  \n",
    "        xpath = f'//*[@id=\"listForm\"]/div/div/ul/li[{i}]/div[2]/strong/a'\n",
    "        name_btn = driver.find_element(By.XPATH, xpath)\n",
    "        name_btn.click()\n",
    "\n",
    "        time.sleep(2)\n",
    "\n",
    "        #질환명\n",
    "        name = driver.find_element(By.XPATH, '//*[@id=\"content\"]/div[2]/div[1]/div[1]/ul/li/div[2]/strong').text\n",
    "        \n",
    "        # 정의  \n",
    "        try:\n",
    "            definition = driver.find_element(By.XPATH, '//*[@id=\"content\"]/div[2]/div[1]/div[2]/dl/dd[1]/p[1]').text\n",
    "        except NoSuchElementException:\n",
    "            definition = None\n",
    "            \n",
    "        #원인\n",
    "        try:\n",
    "            cause = driver.find_element(By.XPATH, '//*[@id=\"content\"]/div[2]/div[1]/div[2]/dl/dd[2]/p').text\n",
    "        except NoSuchElementException:\n",
    "            cause = None\n",
    "            \n",
    "        # 증상 \n",
    "        try:\n",
    "            symptom = driver.find_element(By.XPATH,'//*[@id=\"content\"]/div[2]/div[1]/div[2]/dl/dd[3]/p[1]').text\n",
    "        except NoSuchElementException:\n",
    "            symptom = None\n",
    "\n",
    "        # 관련질환   \n",
    "        try:\n",
    "            related = driver.find_element(By.XPATH, '//*[@id=\"content\"]/div[2]/div[1]/div[1]/ul/li/div[2]/dl/dd[2]').text\n",
    "        except NoSuchElementException:\n",
    "            related = None\n",
    "\n",
    "        # 진료과\n",
    "        try:\n",
    "            department = driver.find_element(By.XPATH, '//*[@id=\"content\"]/div[2]/div[1]/div[1]/ul/li/div[2]/dl/dd[3]/a').text\n",
    "        except NoSuchElementException:\n",
    "            department = None\n",
    "\n",
    "        \n",
    "\n",
    "\n",
    "        result.append(pd.DataFrame({'부위':'전신', ## 부위명 변경\n",
    "                                       '질환명':name,\n",
    "                                        '정의':definition,\n",
    "                                        '원인':cause,\n",
    "                                     '증상':symptom,\n",
    "                                       '관련질환':related,\n",
    "                                      '진료과':department}, index=range(0,1)))\n",
    "\n",
    "\n",
    "        driver.back()\n",
    "\n",
    "    btn = f'//*[@id=\"content\"]/div[2]/div[2]/span[2]/a[{j+1}]'\n",
    "    page_btn = driver.find_element(By.XPATH, btn)\n",
    "    page_btn.click()\n",
    "    time.sleep(2)    "
   ]
  },
  {
   "cell_type": "code",
   "execution_count": null,
   "id": "cee6f150",
   "metadata": {},
   "outputs": [],
   "source": [
    "pd.concat(result).reset_index(drop=True)"
   ]
  },
  {
   "cell_type": "code",
   "execution_count": null,
   "id": "f12135a0",
   "metadata": {},
   "outputs": [],
   "source": [
    "import pandas as pd\n",
    "\n",
    "df = pd.concat(result).reset_index(drop=True)\n",
    "\n",
    "df.to_csv('질환증상크롤링_배전신.csv', index=False)"
   ]
  },
  {
   "cell_type": "markdown",
   "id": "cfc9322f",
   "metadata": {},
   "source": [
    "## 3. csv 합치기"
   ]
  },
  {
   "cell_type": "code",
   "execution_count": null,
   "id": "a203b40f",
   "metadata": {},
   "outputs": [],
   "source": [
    "df1 = pd.read_csv('./질환증상크롤링_배전신제외.csv')\n",
    "df2 = pd.read_csv('./질환증상크롤링_배전신.csv')\n",
    "\n",
    "merged_df = pd.concat([df1, df2], ignore_index=True)\n",
    "\n",
    "merged_df.to_csv('./질환증상크롤링.csv', index=False)"
   ]
  }
 ],
 "metadata": {
  "kernelspec": {
   "display_name": "Python 3 (ipykernel)",
   "language": "python",
   "name": "python3"
  },
  "language_info": {
   "codemirror_mode": {
    "name": "ipython",
    "version": 3
   },
   "file_extension": ".py",
   "mimetype": "text/x-python",
   "name": "python",
   "nbconvert_exporter": "python",
   "pygments_lexer": "ipython3",
   "version": "3.11.5"
  }
 },
 "nbformat": 4,
 "nbformat_minor": 5
}
